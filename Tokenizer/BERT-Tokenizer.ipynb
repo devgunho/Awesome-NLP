{
 "cells": [
  {
   "cell_type": "markdown",
   "id": "f76e07d0",
   "metadata": {},
   "source": [
    "## BERT (Bidirectional Encoder Representations from Transformers)"
   ]
  },
  {
   "cell_type": "code",
   "execution_count": 1,
   "id": "8f99a9ef",
   "metadata": {
    "ExecuteTime": {
     "end_time": "2021-06-04T08:23:00.963913Z",
     "start_time": "2021-06-04T08:22:56.384394Z"
    }
   },
   "outputs": [],
   "source": [
    "import pandas as pd\n",
    "from transformers import BertTokenizer\n",
    "\n",
    "tokenizer = BertTokenizer.from_pretrained(\"bert-base-uncased\")"
   ]
  },
  {
   "cell_type": "code",
   "execution_count": 2,
   "id": "539315ed",
   "metadata": {
    "ExecuteTime": {
     "end_time": "2021-06-04T08:23:00.979876Z",
     "start_time": "2021-06-04T08:23:00.964948Z"
    }
   },
   "outputs": [
    {
     "name": "stdout",
     "output_type": "stream",
     "text": [
      "['em', '##bed', '##ding', '##s']\n"
     ]
    }
   ],
   "source": [
    "result = tokenizer.tokenize('embeddings')\n",
    "print(result)"
   ]
  },
  {
   "cell_type": "code",
   "execution_count": 3,
   "id": "c5d95d5b",
   "metadata": {
    "ExecuteTime": {
     "end_time": "2021-06-04T08:27:53.007531Z",
     "start_time": "2021-06-04T08:27:52.992569Z"
    }
   },
   "outputs": [
    {
     "name": "stdout",
     "output_type": "stream",
     "text": [
      "['after', 'taking', 'over', 'the', 'domains', 'for', 'the', 'notorious', 'coin', '##hi', '##ve', 'in', '-', 'brows', '##ing', 'mon', '##ero', 'mining', 'service', ',', 'a', 'researcher', 'is', 'now', 'displaying', 'alert', '##s', 'on', 'hacked', 'websites', 'that', 'are', 'still', 'in', '##ject', '##ing', 'the', 'mining', 'service', \"'\", 's', 'java', '##script', '.']\n"
     ]
    }
   ],
   "source": [
    "result = tokenizer.tokenize(\n",
    "    'After taking over the domains for the notorious Coinhive in-browsing Monero mining service, a researcher is now displaying alerts on hacked websites that are still injecting the mining service\\'s JavaScript.'\n",
    ")\n",
    "print(result)"
   ]
  }
 ],
 "metadata": {
  "kernelspec": {
   "display_name": "Python 3",
   "language": "python",
   "name": "python3"
  },
  "language_info": {
   "codemirror_mode": {
    "name": "ipython",
    "version": 3
   },
   "file_extension": ".py",
   "mimetype": "text/x-python",
   "name": "python",
   "nbconvert_exporter": "python",
   "pygments_lexer": "ipython3",
   "version": "3.8.10"
  }
 },
 "nbformat": 4,
 "nbformat_minor": 5
}
