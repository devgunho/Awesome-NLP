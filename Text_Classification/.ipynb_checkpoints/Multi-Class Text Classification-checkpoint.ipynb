{
 "cells": [
  {
   "cell_type": "markdown",
   "id": "bee8dbd4",
   "metadata": {},
   "source": [
    "## Multi-Class Text Classification with Doc2Vec & Logistic Regression\n",
    "\n",
    "The goal is to classify consumer finance complaints into 12 pre-defined classes using Doc2Vec and Logistic Regression.\n",
    "\n",
    "Doc2vec is an NLP tool for representing documents as a vector and is a generalizing of the word2vec method."
   ]
  },
  {
   "cell_type": "markdown",
   "id": "a1db7006",
   "metadata": {},
   "source": [
    "### Consumer Complaint Database\n",
    "> https://catalog.data.gov/dataset/consumer-complaint-database\n",
    "\n",
    "*Metadata Updated: November 10, 2020*\n",
    "\n",
    "The Consumer Complaint Database is a collection of complaints about consumer financial products and services that we sent to companies for response.\n",
    "\n",
    "Complaints are published after the company responds, confirming a commercial relationship with the consumer, or after 15 days, whichever comes first.\n",
    "\n",
    "Complaints referred to other regulators, such as complaints about depository institutions with less than $10 billion in assets, are not published in the Consumer Complaint Database. The database generally updates daily."
   ]
  },
  {
   "cell_type": "code",
   "execution_count": 1,
   "id": "458e99c3",
   "metadata": {
    "ExecuteTime": {
     "end_time": "2021-10-12T20:17:58.524375Z",
     "start_time": "2021-10-12T20:17:55.423259Z"
    }
   },
   "outputs": [
    {
     "data": {
      "text/html": [
       "<div>\n",
       "<style scoped>\n",
       "    .dataframe tbody tr th:only-of-type {\n",
       "        vertical-align: middle;\n",
       "    }\n",
       "\n",
       "    .dataframe tbody tr th {\n",
       "        vertical-align: top;\n",
       "    }\n",
       "\n",
       "    .dataframe thead th {\n",
       "        text-align: right;\n",
       "    }\n",
       "</style>\n",
       "<table border=\"1\" class=\"dataframe\">\n",
       "  <thead>\n",
       "    <tr style=\"text-align: right;\">\n",
       "      <th></th>\n",
       "      <th>narrative</th>\n",
       "      <th>Product</th>\n",
       "    </tr>\n",
       "  </thead>\n",
       "  <tbody>\n",
       "    <tr>\n",
       "      <th>0</th>\n",
       "      <td>transworld systems inc. \\r\\nis trying to colle...</td>\n",
       "      <td>Debt collection</td>\n",
       "    </tr>\n",
       "    <tr>\n",
       "      <th>2</th>\n",
       "      <td>Over the past 2 weeks, I have been receiving e...</td>\n",
       "      <td>Debt collection</td>\n",
       "    </tr>\n",
       "    <tr>\n",
       "      <th>4</th>\n",
       "      <td>My personal information was used without my kn...</td>\n",
       "      <td>Credit reporting, credit repair services, or o...</td>\n",
       "    </tr>\n",
       "    <tr>\n",
       "      <th>5</th>\n",
       "      <td>XX/XX/2021 I lost my phone and I didn't notice...</td>\n",
       "      <td>Money transfer, virtual currency, or money ser...</td>\n",
       "    </tr>\n",
       "    <tr>\n",
       "      <th>10</th>\n",
       "      <td>Previously, on XX/XX/XXXX, XX/XX/XXXX, and XX/...</td>\n",
       "      <td>Credit reporting, credit repair services, or o...</td>\n",
       "    </tr>\n",
       "    <tr>\n",
       "      <th>11</th>\n",
       "      <td>Hello This complaint is against the three cred...</td>\n",
       "      <td>Credit reporting, credit repair services, or o...</td>\n",
       "    </tr>\n",
       "    <tr>\n",
       "      <th>15</th>\n",
       "      <td>Today XX/XX/XXXX went online to dispute the in...</td>\n",
       "      <td>Credit reporting, credit repair services, or o...</td>\n",
       "    </tr>\n",
       "    <tr>\n",
       "      <th>17</th>\n",
       "      <td>XXXX is reporting incorrectly to Equifax and X...</td>\n",
       "      <td>Credit reporting, credit repair services, or o...</td>\n",
       "    </tr>\n",
       "    <tr>\n",
       "      <th>18</th>\n",
       "      <td>Please reverse the late payments reported on t...</td>\n",
       "      <td>Credit reporting, credit repair services, or o...</td>\n",
       "    </tr>\n",
       "    <tr>\n",
       "      <th>19</th>\n",
       "      <td>Pioneer has committed several federal violatio...</td>\n",
       "      <td>Debt collection</td>\n",
       "    </tr>\n",
       "  </tbody>\n",
       "</table>\n",
       "</div>"
      ],
      "text/plain": [
       "                                            narrative  \\\n",
       "0   transworld systems inc. \\r\\nis trying to colle...   \n",
       "2   Over the past 2 weeks, I have been receiving e...   \n",
       "4   My personal information was used without my kn...   \n",
       "5   XX/XX/2021 I lost my phone and I didn't notice...   \n",
       "10  Previously, on XX/XX/XXXX, XX/XX/XXXX, and XX/...   \n",
       "11  Hello This complaint is against the three cred...   \n",
       "15  Today XX/XX/XXXX went online to dispute the in...   \n",
       "17  XXXX is reporting incorrectly to Equifax and X...   \n",
       "18  Please reverse the late payments reported on t...   \n",
       "19  Pioneer has committed several federal violatio...   \n",
       "\n",
       "                                              Product  \n",
       "0                                     Debt collection  \n",
       "2                                     Debt collection  \n",
       "4   Credit reporting, credit repair services, or o...  \n",
       "5   Money transfer, virtual currency, or money ser...  \n",
       "10  Credit reporting, credit repair services, or o...  \n",
       "11  Credit reporting, credit repair services, or o...  \n",
       "15  Credit reporting, credit repair services, or o...  \n",
       "17  Credit reporting, credit repair services, or o...  \n",
       "18  Credit reporting, credit repair services, or o...  \n",
       "19                                    Debt collection  "
      ]
     },
     "execution_count": 1,
     "metadata": {},
     "output_type": "execute_result"
    }
   ],
   "source": [
    "import pandas as pd\n",
    "import numpy as np\n",
    "from tqdm import tqdm\n",
    "\n",
    "tqdm.pandas(desc=\"progress-bar\")\n",
    "from gensim.models import Doc2Vec\n",
    "from sklearn import utils\n",
    "from sklearn.model_selection import train_test_split\n",
    "import gensim\n",
    "from sklearn.linear_model import LogisticRegression\n",
    "from gensim.models.doc2vec import TaggedDocument\n",
    "import re\n",
    "import seaborn as sns\n",
    "import matplotlib.pyplot as plt\n",
    "\n",
    "df = pd.read_csv('./complaints-sample.csv')\n",
    "# df = pd.read_csv('./complaints.csv')\n",
    "df = df[['Consumer complaint narrative', 'Product']]\n",
    "df = df[pd.notnull(df['Consumer complaint narrative'])]\n",
    "df.rename(columns={'Consumer complaint narrative': 'narrative'}, inplace=True)\n",
    "df.head(10)"
   ]
  },
  {
   "cell_type": "code",
   "execution_count": 2,
   "id": "255d4a91",
   "metadata": {
    "ExecuteTime": {
     "end_time": "2021-10-12T20:17:58.530348Z",
     "start_time": "2021-10-12T20:17:58.525349Z"
    }
   },
   "outputs": [
    {
     "data": {
      "text/plain": [
       "(534, 2)"
      ]
     },
     "execution_count": 2,
     "metadata": {},
     "output_type": "execute_result"
    }
   ],
   "source": [
    "df.shape"
   ]
  },
  {
   "cell_type": "code",
   "execution_count": 3,
   "id": "0c791eb4",
   "metadata": {
    "ExecuteTime": {
     "end_time": "2021-10-12T20:17:58.544349Z",
     "start_time": "2021-10-12T20:17:58.531349Z"
    }
   },
   "outputs": [
    {
     "data": {
      "text/plain": [
       "127239"
      ]
     },
     "execution_count": 3,
     "metadata": {},
     "output_type": "execute_result"
    }
   ],
   "source": [
    "df.index = range(534)\n",
    "df['narrative'].apply(lambda x: len(x.split(' '))).sum()"
   ]
  },
  {
   "cell_type": "code",
   "execution_count": 4,
   "id": "7116ea1e",
   "metadata": {
    "ExecuteTime": {
     "end_time": "2021-10-12T20:17:58.782266Z",
     "start_time": "2021-10-12T20:17:58.545349Z"
    }
   },
   "outputs": [
    {
     "name": "stderr",
     "output_type": "stream",
     "text": [
      "C:\\ProgramData\\Anaconda3\\lib\\site-packages\\seaborn\\_decorators.py:36: FutureWarning: Pass the following variables as keyword args: x, y. From version 0.12, the only valid positional argument will be `data`, and passing other arguments without an explicit keyword will result in an error or misinterpretation.\n",
      "  warnings.warn(\n"
     ]
    },
    {
     "data": {
      "image/png": "[encoded data removed]",
      "text/plain": [
       "<Figure size 864x288 with 1 Axes>"
      ]
     },
     "metadata": {
      "needs_background": "light"
     },
     "output_type": "display_data"
    }
   ],
   "source": [
    "cnt_pro = df['Product'].value_counts()\n",
    "plt.figure(figsize=(12, 4))\n",
    "sns.barplot(cnt_pro.index, cnt_pro.values, alpha=0.8)\n",
    "plt.ylabel('Number of Occurrences', fontsize=12)\n",
    "plt.xlabel('Product', fontsize=12)\n",
    "plt.xticks(rotation=90)\n",
    "plt.show()"
   ]
  },
  {
   "cell_type": "code",
   "execution_count": 5,
   "id": "44205944",
   "metadata": {
    "ExecuteTime": {
     "end_time": "2021-10-12T20:17:58.798267Z",
     "start_time": "2021-10-12T20:17:58.783266Z"
    }
   },
   "outputs": [
    {
     "name": "stdout",
     "output_type": "stream",
     "text": [
      "i am a victim of identity theft as previously stated\n",
      "Product: Credit reporting, credit repair services, or other personal consumer reports\n"
     ]
    }
   ],
   "source": [
    "def print_complaint(index):\n",
    "    example = df[df.index == index][['narrative', 'Product']].values[0]\n",
    "    if len(example) > 0:\n",
    "        print(example[0])\n",
    "        print('Product:', example[1])\n",
    "\n",
    "\n",
    "print_complaint(12)"
   ]
  },
  {
   "cell_type": "code",
   "execution_count": 6,
   "id": "f48eb5c6",
   "metadata": {
    "ExecuteTime": {
     "end_time": "2021-10-12T20:17:58.804269Z",
     "start_time": "2021-10-12T20:17:58.799267Z"
    }
   },
   "outputs": [
    {
     "name": "stdout",
     "output_type": "stream",
     "text": [
      "I am a victim of identity theft. The information listed below, which appears on my credit report, does not relate to any transaction ( s )  that I have made. It is the result of identity theft.\n",
      "Product: Credit reporting, credit repair services, or other personal consumer reports\n"
     ]
    }
   ],
   "source": [
    "print_complaint(20)"
   ]
  },
  {
   "cell_type": "markdown",
   "id": "b0d0a418",
   "metadata": {},
   "source": [
    "### Text Preprocessing\n",
    "- Remove stop-words and tokenize text using NLTK tokenizer"
   ]
  },
  {
   "cell_type": "code",
   "execution_count": 7,
   "id": "bbb5f0e5",
   "metadata": {
    "ExecuteTime": {
     "end_time": "2021-10-12T20:17:59.016291Z",
     "start_time": "2021-10-12T20:17:58.806269Z"
    }
   },
   "outputs": [],
   "source": [
    "from bs4 import BeautifulSoup\n",
    "def cleanText(text):\n",
    "    text = BeautifulSoup(text, \"lxml\").text\n",
    "    text = re.sub(r'\\|\\|\\|', r' ', text) \n",
    "    text = re.sub(r'http\\S+', r'<URL>', text)\n",
    "    text = text.lower()\n",
    "    text = text.replace('x', '')\n",
    "    return text\n",
    "df['narrative'] = df['narrative'].apply(cleanText)"
   ]
  },
  {
   "cell_type": "code",
   "execution_count": 8,
   "id": "8fd636fd",
   "metadata": {
    "ExecuteTime": {
     "end_time": "2021-10-12T20:18:00.270323Z",
     "start_time": "2021-10-12T20:17:59.017268Z"
    }
   },
   "outputs": [],
   "source": [
    "train, test = train_test_split(df, test_size=0.3, random_state=42)\n",
    "import nltk\n",
    "from nltk.corpus import stopwords\n",
    "\n",
    "\n",
    "def tokenize_text(text):\n",
    "    tokens = []\n",
    "    for sent in nltk.sent_tokenize(text):\n",
    "        for word in nltk.word_tokenize(sent):\n",
    "            if len(word) < 2:\n",
    "                continue\n",
    "            tokens.append(word.lower())\n",
    "    return tokens\n",
    "\n",
    "\n",
    "train_tagged = train.apply(lambda r: TaggedDocument(\n",
    "    words=tokenize_text(r['narrative']), tags=[r.Product]),\n",
    "                           axis=1)\n",
    "test_tagged = test.apply(lambda r: TaggedDocument(\n",
    "    words=tokenize_text(r['narrative']), tags=[r.Product]),\n",
    "                         axis=1)"
   ]
  },
  {
   "cell_type": "code",
   "execution_count": 9,
   "id": "db88017c",
   "metadata": {
    "ExecuteTime": {
     "end_time": "2021-10-12T20:18:00.278327Z",
     "start_time": "2021-10-12T20:18:00.271324Z"
    }
   },
   "outputs": [
    {
     "data": {
      "text/plain": [
       "TaggedDocument(words=['on', '//', 'sent', 'letter', 'to', 'the', 'hospital', 'to', 'settle', 'any', 'open', 'balance', 'had', 'with', 'them', 'in', 'my', 'letter', 'it', 'sated', 'that', 'wanted', 'to', 'settle', 'the', 'account', 'balance', 'for', '150.00', 'so', 'they', 'had', 'the', 'choice', 'to', 'either', 'decline', 'my', 'proposal', 'and', 'return', 'my', 'check', 'or', 'accept', 'my', 'proposal', 'and', 'cash', 'the', 'check', 'which', 'clearly', 'stated', 'in', 'my', 'letter', 'the', 'hospital', 'did', 'in', 'fact', 'cash', 'my', 'check', 'and', 'have', 'documents', 'to', 'prove', 'it', 'they', 'did', 'in', 'fact', 'cash', 'the', 'check', 'knowing', 'that', 'the', 'check', 'was', 'only', 'to', 'settle', 'the', 'remaining', 'balance', 'on', 'my', 'account', 'and', 'not', 'to', 'send', 'my', 'account', 'to', 'collections', 'or', 'cancel', 'any', 'collections', 'attempts', 'below', 'is', 'what', 'was', 'in', 'the', 'letter', 'sent', 'notice', 'of', 'dispute', 'and', 'settlement', 'dear', 'disputing', 'the', 'entire', 'balance', 'on', 'any', 'accounts', 'numbers', 'with', 'date', 'of', 'service', 'from', '//', 'to', '//', 'however', 'attached', 'is', 'check', 'made', 'payable', 'to', 'your', 'company', 'settling', 'any', 'balances', 'currently', 'showing', 'in', 'my', 'account', 'from', '//', 'until', '//', 'by', 'cashing', 'the', 'check', 'attached', 'to', 'this', 'letter', 'check', 'from', 'with', 'memo', 'on', 'the', 'bottom', 'for', 'balances', 'payoff', 'you', 'are', 'agreeing', 'to', 'settle', 'any', 'balances', 'and', 'will', 'refrain', 'from', 'sending', 'my', 'account', 'to', 'any', 'collection', 'agencies', 'or', 'will', 'cancel', 'any', 'collections', 'attempts', 'if', 'you', 'did', 'already', 'send', 'my', 'account', 'to', 'collection', 'if', 'you', 'do', 'not', 'agree', 'to', 'the', 'amount', 'on', 'the', 'check', '150.00', 'as', 'final', 'balance', 'for', 'any', 'services', 'received', 'during', 'the', 'dates', 'stated', 'above', 'please', 'feel', 'free', 'to', 'return', 'the', 'check', 'send', 'my', 'account', 'to', 'collection', 'and', 'file', 'lawsuit', 'will', 'be', 'happy', 'to', 'eplain', 'my', 'case', 'before', 'judge', 'again', 'im', 'still', 'disputing', 'any', 'balance', 'forwarded', 'to', 'any', 'collection', 'accounts', 'or', 'any', 'balance', 'you', 'currently', 'have', 'in', 'my', 'account', 'thank', 'you'], tags=['Debt collection'])"
      ]
     },
     "execution_count": 9,
     "metadata": {},
     "output_type": "execute_result"
    }
   ],
   "source": [
    "train_tagged.values[30]"
   ]
  },
  {
   "cell_type": "markdown",
   "id": "771da4d6",
   "metadata": {},
   "source": [
    "### Set-up Doc2Vec Training & Evaluation Models\n",
    "\n",
    "First, we instantiate a doc2vec model — Distributed Bag of Words (DBOW).\n",
    "In the word2vec architecture, the two algorithm names are “continuous bag of words” (CBOW) and “skip-gram” (SG);\n",
    "in the doc2vec architecture, the corresponding algorithms are “distributed memory” (DM) and “distributed bag of words” (DBOW).\n",
    "\n",
    "\n",
    "### Distributed Bag of Words (DBOW)\n",
    "DBOW is the doc2vec model analogous to Skip-gram model in word2vec.\n",
    "The paragraph vectors are obtained by training a neural network on the task of predicting a probability distribution of words in a paragraph given a randomly-sampled word from the paragraph.\n",
    "\n",
    "#### We will vary the following parameters:\n",
    "- If `dm=0`, distributed bag of words (PV-DBOW) is used; if `dm=1`,‘distributed memory’ (PV-DM) is used.\n",
    "- `vector_size=300` dimensional feature vectors.\n",
    "- `min_count=2`, ignores all words with total frequency lower than this.\n",
    "- `negative=5` , specifies how many “noise words” should be drawn.\n",
    "- `hs=0` , and negative is non-zero, negative sampling will be used.\n",
    "- `sample=0` , the threshold for configuring which higher-frequency words are randomly down sampled.\n",
    "- `workers=cores` , use these many worker threads to train the model (=faster training with multicore machines)."
   ]
  },
  {
   "cell_type": "code",
   "execution_count": 10,
   "id": "898b1fcb",
   "metadata": {
    "ExecuteTime": {
     "end_time": "2021-10-12T20:18:00.284329Z",
     "start_time": "2021-10-12T20:18:00.279324Z"
    }
   },
   "outputs": [],
   "source": [
    "import multiprocessing\n",
    "\n",
    "cores = multiprocessing.cpu_count()"
   ]
  },
  {
   "cell_type": "code",
   "execution_count": 11,
   "id": "17751fd0",
   "metadata": {
    "ExecuteTime": {
     "end_time": "2021-10-12T20:18:00.736327Z",
     "start_time": "2021-10-12T20:18:00.285326Z"
    }
   },
   "outputs": [
    {
     "name": "stderr",
     "output_type": "stream",
     "text": [
      "100%|████████████████████████████████████████████████████████████████████████████████████████████████████████████████████| 373/373 [00:00<00:00, 373561.46it/s]\n"
     ]
    }
   ],
   "source": [
    "model_dbow = Doc2Vec(dm=0,\n",
    "                     vector_size=300,\n",
    "                     negative=5,\n",
    "                     hs=0,\n",
    "                     min_count=2,\n",
    "                     sample=0,\n",
    "                     workers=cores)\n",
    "model_dbow.build_vocab([x for x in tqdm(train_tagged.values)])"
   ]
  },
  {
   "cell_type": "code",
   "execution_count": 12,
   "id": "93759939",
   "metadata": {
    "ExecuteTime": {
     "end_time": "2021-10-12T20:18:01.880407Z",
     "start_time": "2021-10-12T20:18:00.737327Z"
    }
   },
   "outputs": [
    {
     "name": "stderr",
     "output_type": "stream",
     "text": [
      "100%|████████████████████████████████████████████████████████████████████████████████████████████████████████████████████████████████| 373/373 [00:00<?, ?it/s]\n",
      "100%|████████████████████████████████████████████████████████████████████████████████████████████████████████████████████████████████| 373/373 [00:00<?, ?it/s]\n",
      "100%|████████████████████████████████████████████████████████████████████████████████████████████████████████████████████████████████| 373/373 [00:00<?, ?it/s]\n",
      "100%|████████████████████████████████████████████████████████████████████████████████████████████████████████████████████████████████| 373/373 [00:00<?, ?it/s]\n",
      "100%|████████████████████████████████████████████████████████████████████████████████████████████████████████████████████████████████| 373/373 [00:00<?, ?it/s]\n",
      "100%|████████████████████████████████████████████████████████████████████████████████████████████████████████████████████████████████| 373/373 [00:00<?, ?it/s]\n",
      "100%|████████████████████████████████████████████████████████████████████████████████████████████████████████████████████████████████| 373/373 [00:00<?, ?it/s]\n",
      "100%|████████████████████████████████████████████████████████████████████████████████████████████████████████████████████████████████| 373/373 [00:00<?, ?it/s]\n",
      "100%|████████████████████████████████████████████████████████████████████████████████████████████████████████████████████████████████| 373/373 [00:00<?, ?it/s]\n",
      "100%|████████████████████████████████████████████████████████████████████████████████████████████████████████████████████████████████| 373/373 [00:00<?, ?it/s]\n",
      "100%|████████████████████████████████████████████████████████████████████████████████████████████████████████████████████████████████| 373/373 [00:00<?, ?it/s]\n",
      "100%|████████████████████████████████████████████████████████████████████████████████████████████████████████████████████████████████| 373/373 [00:00<?, ?it/s]\n",
      "100%|████████████████████████████████████████████████████████████████████████████████████████████████████████████████████████████████| 373/373 [00:00<?, ?it/s]\n",
      "100%|████████████████████████████████████████████████████████████████████████████████████████████████████████████████████████████████| 373/373 [00:00<?, ?it/s]\n",
      "100%|████████████████████████████████████████████████████████████████████████████████████████████████████████████████████████████████| 373/373 [00:00<?, ?it/s]\n",
      "100%|████████████████████████████████████████████████████████████████████████████████████████████████████████████████████████████████| 373/373 [00:00<?, ?it/s]\n",
      "100%|████████████████████████████████████████████████████████████████████████████████████████████████████████████████████| 373/373 [00:00<00:00, 372228.26it/s]\n",
      "100%|████████████████████████████████████████████████████████████████████████████████████████████████████████████████████████████████| 373/373 [00:00<?, ?it/s]\n",
      "100%|████████████████████████████████████████████████████████████████████████████████████████████████████████████████████████████████| 373/373 [00:00<?, ?it/s]\n",
      "100%|████████████████████████████████████████████████████████████████████████████████████████████████████████████████████████████████| 373/373 [00:00<?, ?it/s]\n",
      "100%|████████████████████████████████████████████████████████████████████████████████████████████████████████████████████████████████| 373/373 [00:00<?, ?it/s]\n",
      "100%|████████████████████████████████████████████████████████████████████████████████████████████████████████████████████████████████| 373/373 [00:00<?, ?it/s]\n",
      "100%|████████████████████████████████████████████████████████████████████████████████████████████████████████████████████████████████| 373/373 [00:00<?, ?it/s]\n",
      "100%|████████████████████████████████████████████████████████████████████████████████████████████████████████████████████████████████| 373/373 [00:00<?, ?it/s]\n",
      "100%|████████████████████████████████████████████████████████████████████████████████████████████████████████████████████████████████| 373/373 [00:00<?, ?it/s]\n",
      "100%|████████████████████████████████████████████████████████████████████████████████████████████████████████████████████████████████| 373/373 [00:00<?, ?it/s]\n",
      "100%|████████████████████████████████████████████████████████████████████████████████████████████████████████████████████████████████| 373/373 [00:00<?, ?it/s]\n",
      "100%|████████████████████████████████████████████████████████████████████████████████████████████████████████████████████████████████| 373/373 [00:00<?, ?it/s]\n",
      "100%|████████████████████████████████████████████████████████████████████████████████████████████████████████████████████████████████| 373/373 [00:00<?, ?it/s]\n",
      "100%|████████████████████████████████████████████████████████████████████████████████████████████████████████████████████████████████| 373/373 [00:00<?, ?it/s]\n"
     ]
    },
    {
     "name": "stdout",
     "output_type": "stream",
     "text": [
      "Wall time: 1.14 s\n"
     ]
    }
   ],
   "source": [
    "%%time\n",
    "for epoch in range(30):\n",
    "    model_dbow.train(utils.shuffle([x for x in tqdm(train_tagged.values)]),\n",
    "                     total_examples=len(train_tagged.values),\n",
    "                     epochs=1)\n",
    "    model_dbow.alpha -= 0.002\n",
    "    model_dbow.min_alpha = model_dbow.alpha"
   ]
  },
  {
   "cell_type": "markdown",
   "id": "e1915bfd",
   "metadata": {},
   "source": [
    "### Building the Final Vector Feature for the Classifier"
   ]
  },
  {
   "cell_type": "code",
   "execution_count": 13,
   "id": "ad2be8bc",
   "metadata": {
    "ExecuteTime": {
     "end_time": "2021-10-12T20:18:01.886405Z",
     "start_time": "2021-10-12T20:18:01.881408Z"
    }
   },
   "outputs": [],
   "source": [
    "def vec_for_learning(model, tagged_docs):\n",
    "    sents = tagged_docs.values\n",
    "    targets, regressors = zip(*[(doc.tags[0],\n",
    "                                 model.infer_vector(doc.words, steps=20))\n",
    "                                for doc in sents])\n",
    "    return targets, regressors\n",
    "\n",
    "\n",
    "def vec_for_learning(model, tagged_docs):\n",
    "    sents = tagged_docs.values\n",
    "    targets, regressors = zip(*[(doc.tags[0],\n",
    "                                 model.infer_vector(doc.words, steps=20))\n",
    "                                for doc in sents])\n",
    "    return targets, regressors"
   ]
  },
  {
   "cell_type": "markdown",
   "id": "4d3dfb8e",
   "metadata": {},
   "source": [
    "### Train the Logistic Regression Classifier"
   ]
  },
  {
   "cell_type": "code",
   "execution_count": 14,
   "id": "4ed7bca9",
   "metadata": {
    "ExecuteTime": {
     "end_time": "2021-10-12T20:18:03.744555Z",
     "start_time": "2021-10-12T20:18:01.887409Z"
    }
   },
   "outputs": [
    {
     "name": "stdout",
     "output_type": "stream",
     "text": [
      "Testing accuracy 0.40372670807453415\n",
      "Testing F1 score: 0.2452464011214969\n"
     ]
    },
    {
     "name": "stderr",
     "output_type": "stream",
     "text": [
      "C:\\ProgramData\\Anaconda3\\lib\\site-packages\\sklearn\\linear_model\\_logistic.py:763: ConvergenceWarning: lbfgs failed to converge (status=1):\n",
      "STOP: TOTAL NO. of ITERATIONS REACHED LIMIT.\n",
      "\n",
      "Increase the number of iterations (max_iter) or scale the data as shown in:\n",
      "    https://scikit-learn.org/stable/modules/preprocessing.html\n",
      "Please also refer to the documentation for alternative solver options:\n",
      "    https://scikit-learn.org/stable/modules/linear_model.html#logistic-regression\n",
      "  n_iter_i = _check_optimize_result(\n"
     ]
    }
   ],
   "source": [
    "y_train, X_train = vec_for_learning(model_dbow, train_tagged)\n",
    "y_test, X_test = vec_for_learning(model_dbow, test_tagged)\n",
    "logreg = LogisticRegression(n_jobs=1, C=1e5)\n",
    "logreg.fit(X_train, y_train)\n",
    "y_pred = logreg.predict(X_test)\n",
    "from sklearn.metrics import accuracy_score, f1_score\n",
    "print('Testing accuracy %s' % accuracy_score(y_test, y_pred))\n",
    "print('Testing F1 score: {}'.format(f1_score(y_test, y_pred, average='weighted')))"
   ]
  },
  {
   "cell_type": "markdown",
   "id": "fe856dcb",
   "metadata": {},
   "source": [
    "### Distributed Memory (DM)\n",
    "\n",
    "Distributed Memory (DM) acts as a memory that remembers what is missing from the current context — or as the topic of the paragraph.\n",
    "While the word vectors represent the concept of a word, the document vector intends to represent the concept of a document.\n",
    "We again instantiate a Doc2Vec model with a vector size with 300 words and iterating over the training corpus 30 times."
   ]
  },
  {
   "cell_type": "code",
   "execution_count": 15,
   "id": "9fa90d98",
   "metadata": {
    "ExecuteTime": {
     "end_time": "2021-10-12T20:18:04.556170Z",
     "start_time": "2021-10-12T20:18:03.745557Z"
    }
   },
   "outputs": [
    {
     "name": "stderr",
     "output_type": "stream",
     "text": [
      "100%|████████████████████████████████████████████████████████████████████████████████████████████████████████████████████████████████| 373/373 [00:00<?, ?it/s]\n"
     ]
    }
   ],
   "source": [
    "model_dmm = Doc2Vec(dm=1, dm_mean=1, vector_size=300, window=10, negative=5, min_count=1, workers=5, alpha=0.065, min_alpha=0.065)\n",
    "model_dmm.build_vocab([x for x in tqdm(train_tagged.values)])"
   ]
  },
  {
   "cell_type": "code",
   "execution_count": 16,
   "id": "d43bef96",
   "metadata": {
    "ExecuteTime": {
     "end_time": "2021-10-12T20:18:06.564868Z",
     "start_time": "2021-10-12T20:18:04.557086Z"
    }
   },
   "outputs": [
    {
     "name": "stderr",
     "output_type": "stream",
     "text": [
      "100%|████████████████████████████████████████████████████████████████████████████████████████████████████████████████████████████████| 373/373 [00:00<?, ?it/s]\n",
      "100%|████████████████████████████████████████████████████████████████████████████████████████████████████████████████████████████████| 373/373 [00:00<?, ?it/s]\n",
      "100%|████████████████████████████████████████████████████████████████████████████████████████████████████████████████████████████████| 373/373 [00:00<?, ?it/s]\n",
      "100%|████████████████████████████████████████████████████████████████████████████████████████████████████████████████████████████████| 373/373 [00:00<?, ?it/s]\n",
      "100%|████████████████████████████████████████████████████████████████████████████████████████████████████████████████████████████████| 373/373 [00:00<?, ?it/s]\n",
      "100%|████████████████████████████████████████████████████████████████████████████████████████████████████████████████████| 373/373 [00:00<00:00, 372938.11it/s]\n",
      "100%|████████████████████████████████████████████████████████████████████████████████████████████████████████████████████████████████| 373/373 [00:00<?, ?it/s]\n",
      "100%|████████████████████████████████████████████████████████████████████████████████████████████████████████████████████████████████| 373/373 [00:00<?, ?it/s]\n",
      "100%|████████████████████████████████████████████████████████████████████████████████████████████████████████████████████████████████| 373/373 [00:00<?, ?it/s]\n",
      "100%|████████████████████████████████████████████████████████████████████████████████████████████████████████████████████████████████| 373/373 [00:00<?, ?it/s]\n",
      "100%|████████████████████████████████████████████████████████████████████████████████████████████████████████████████████| 373/373 [00:00<00:00, 372494.14it/s]\n",
      "100%|████████████████████████████████████████████████████████████████████████████████████████████████████████████████████████████████| 373/373 [00:00<?, ?it/s]\n",
      "100%|████████████████████████████████████████████████████████████████████████████████████████████████████████████████████████████████| 373/373 [00:00<?, ?it/s]\n",
      "100%|████████████████████████████████████████████████████████████████████████████████████████████████████████████████████| 373/373 [00:00<00:00, 372671.60it/s]\n",
      "100%|████████████████████████████████████████████████████████████████████████████████████████████████████████████████████████████████| 373/373 [00:00<?, ?it/s]\n",
      "100%|████████████████████████████████████████████████████████████████████████████████████████████████████████████████████████████████| 373/373 [00:00<?, ?it/s]\n",
      "100%|████████████████████████████████████████████████████████████████████████████████████████████████████████████████████████████████| 373/373 [00:00<?, ?it/s]\n",
      "100%|████████████████████████████████████████████████████████████████████████████████████████████████████████████████████████████████| 373/373 [00:00<?, ?it/s]\n",
      "100%|████████████████████████████████████████████████████████████████████████████████████████████████████████████████████████████████| 373/373 [00:00<?, ?it/s]\n",
      "100%|████████████████████████████████████████████████████████████████████████████████████████████████████████████████████████████████| 373/373 [00:00<?, ?it/s]\n",
      "100%|████████████████████████████████████████████████████████████████████████████████████████████████████████████████████| 373/373 [00:00<00:00, 373027.04it/s]\n",
      "100%|████████████████████████████████████████████████████████████████████████████████████████████████████████████████████████████████| 373/373 [00:00<?, ?it/s]\n",
      "100%|████████████████████████████████████████████████████████████████████████████████████████████████████████████████████| 373/373 [00:00<00:00, 373116.00it/s]\n",
      "100%|████████████████████████████████████████████████████████████████████████████████████████████████████████████████████████████████| 373/373 [00:00<?, ?it/s]\n",
      "100%|████████████████████████████████████████████████████████████████████████████████████████████████████████████████████████████████| 373/373 [00:00<?, ?it/s]\n",
      "100%|████████████████████████████████████████████████████████████████████████████████████████████████████████████████████████████████| 373/373 [00:00<?, ?it/s]\n",
      "100%|████████████████████████████████████████████████████████████████████████████████████████████████████████████████████████████████| 373/373 [00:00<?, ?it/s]\n",
      "100%|████████████████████████████████████████████████████████████████████████████████████████████████████████████████████| 373/373 [00:00<00:00, 372228.26it/s]\n",
      "100%|████████████████████████████████████████████████████████████████████████████████████████████████████████████████████| 373/373 [00:00<00:00, 373205.01it/s]\n",
      "100%|████████████████████████████████████████████████████████████████████████████████████████████████████████████████████████████████| 373/373 [00:00<?, ?it/s]\n"
     ]
    },
    {
     "name": "stdout",
     "output_type": "stream",
     "text": [
      "Wall time: 2 s\n"
     ]
    }
   ],
   "source": [
    "%%time\n",
    "for epoch in range(30):\n",
    "    model_dmm.train(utils.shuffle([x for x in tqdm(train_tagged.values)]), total_examples=len(train_tagged.values), epochs=1)\n",
    "    model_dmm.alpha -= 0.002\n",
    "    model_dmm.min_alpha = model_dmm.alpha"
   ]
  },
  {
   "cell_type": "markdown",
   "id": "d4374fcf",
   "metadata": {},
   "source": [
    "### Train the Logistic Regression Classifier"
   ]
  },
  {
   "cell_type": "code",
   "execution_count": 17,
   "id": "b43488f5",
   "metadata": {
    "ExecuteTime": {
     "end_time": "2021-10-12T20:18:09.983206Z",
     "start_time": "2021-10-12T20:18:06.565867Z"
    }
   },
   "outputs": [
    {
     "name": "stdout",
     "output_type": "stream",
     "text": [
      "Testing accuracy 0.5590062111801242\n",
      "Testing F1 score: 0.5470116681719421\n"
     ]
    },
    {
     "name": "stderr",
     "output_type": "stream",
     "text": [
      "C:\\ProgramData\\Anaconda3\\lib\\site-packages\\sklearn\\linear_model\\_logistic.py:763: ConvergenceWarning: lbfgs failed to converge (status=1):\n",
      "STOP: TOTAL NO. of ITERATIONS REACHED LIMIT.\n",
      "\n",
      "Increase the number of iterations (max_iter) or scale the data as shown in:\n",
      "    https://scikit-learn.org/stable/modules/preprocessing.html\n",
      "Please also refer to the documentation for alternative solver options:\n",
      "    https://scikit-learn.org/stable/modules/linear_model.html#logistic-regression\n",
      "  n_iter_i = _check_optimize_result(\n"
     ]
    }
   ],
   "source": [
    "y_train, X_train = vec_for_learning(model_dmm, train_tagged)\n",
    "y_test, X_test = vec_for_learning(model_dmm, test_tagged)\n",
    "\n",
    "logreg.fit(X_train, y_train)\n",
    "y_pred = logreg.predict(X_test)\n",
    "\n",
    "print('Testing accuracy %s' % accuracy_score(y_test, y_pred))\n",
    "print('Testing F1 score: {}'.format(f1_score(y_test, y_pred, average='weighted')))"
   ]
  },
  {
   "cell_type": "markdown",
   "id": "a07f74fe",
   "metadata": {},
   "source": [
    "### Model Pairing\n",
    "\n",
    "According to Gensim doc2vec tutorial on the IMDB sentiment data set, combining a paragraph vector from Distributed Bag of Words (DBOW) and Distributed Memory (DM) improves performance.\n",
    "We will follow, pairing the models together for evaluation."
   ]
  },
  {
   "cell_type": "code",
   "execution_count": 18,
   "id": "8aa3298f",
   "metadata": {
    "ExecuteTime": {
     "end_time": "2021-10-12T20:18:09.989205Z",
     "start_time": "2021-10-12T20:18:09.984206Z"
    }
   },
   "outputs": [],
   "source": [
    "model_dbow.delete_temporary_training_data(keep_doctags_vectors=True, keep_inference=True)\n",
    "model_dmm.delete_temporary_training_data(keep_doctags_vectors=True, keep_inference=True)"
   ]
  },
  {
   "cell_type": "markdown",
   "id": "41b91f77",
   "metadata": {},
   "source": [
    "#### Concatenate two models"
   ]
  },
  {
   "cell_type": "code",
   "execution_count": 19,
   "id": "779c5852",
   "metadata": {
    "ExecuteTime": {
     "end_time": "2021-10-12T20:18:10.098204Z",
     "start_time": "2021-10-12T20:18:09.990207Z"
    }
   },
   "outputs": [],
   "source": [
    "from gensim.test.test_doc2vec import ConcatenatedDoc2Vec\n",
    "new_model = ConcatenatedDoc2Vec([model_dbow, model_dmm])"
   ]
  },
  {
   "cell_type": "markdown",
   "id": "d589ee38",
   "metadata": {},
   "source": [
    "#### Building feature vectors"
   ]
  },
  {
   "cell_type": "code",
   "execution_count": 20,
   "id": "b12e5220",
   "metadata": {
    "ExecuteTime": {
     "end_time": "2021-10-12T20:18:10.104205Z",
     "start_time": "2021-10-12T20:18:10.099206Z"
    }
   },
   "outputs": [],
   "source": [
    "def get_vectors(model, tagged_docs):\n",
    "    sents = tagged_docs.values\n",
    "    targets, regressors = zip(*[(doc.tags[0], model.infer_vector(doc.words, steps=20)) for doc in sents])\n",
    "    return targets, regressors"
   ]
  },
  {
   "cell_type": "markdown",
   "id": "163cd7d4",
   "metadata": {},
   "source": [
    "#### Train the Logistic Regression"
   ]
  },
  {
   "cell_type": "code",
   "execution_count": 21,
   "id": "ba378db2",
   "metadata": {
    "ExecuteTime": {
     "end_time": "2021-10-12T20:18:15.459229Z",
     "start_time": "2021-10-12T20:18:10.106206Z"
    }
   },
   "outputs": [
    {
     "name": "stdout",
     "output_type": "stream",
     "text": [
      "Testing accuracy 0.6521739130434783\n",
      "Testing F1 score: 0.6236804129229316\n"
     ]
    },
    {
     "name": "stderr",
     "output_type": "stream",
     "text": [
      "C:\\ProgramData\\Anaconda3\\lib\\site-packages\\sklearn\\linear_model\\_logistic.py:763: ConvergenceWarning: lbfgs failed to converge (status=1):\n",
      "STOP: TOTAL NO. of ITERATIONS REACHED LIMIT.\n",
      "\n",
      "Increase the number of iterations (max_iter) or scale the data as shown in:\n",
      "    https://scikit-learn.org/stable/modules/preprocessing.html\n",
      "Please also refer to the documentation for alternative solver options:\n",
      "    https://scikit-learn.org/stable/modules/linear_model.html#logistic-regression\n",
      "  n_iter_i = _check_optimize_result(\n"
     ]
    }
   ],
   "source": [
    "y_train, X_train = get_vectors(new_model, train_tagged)\n",
    "y_test, X_test = get_vectors(new_model, test_tagged)\n",
    "logreg.fit(X_train, y_train)\n",
    "y_pred = logreg.predict(X_test)\n",
    "print('Testing accuracy %s' % accuracy_score(y_test, y_pred))\n",
    "print('Testing F1 score: {}'.format(f1_score(y_test, y_pred, average='weighted')))"
   ]
  }
 ],
 "metadata": {
  "kernelspec": {
   "display_name": "Python 3",
   "language": "python",
   "name": "python3"
  },
  "language_info": {
   "codemirror_mode": {
    "name": "ipython",
    "version": 3
   },
   "file_extension": ".py",
   "mimetype": "text/x-python",
   "name": "python",
   "nbconvert_exporter": "python",
   "pygments_lexer": "ipython3",
   "version": "3.8.10"
  }
 },
 "nbformat": 4,
 "nbformat_minor": 5
}
