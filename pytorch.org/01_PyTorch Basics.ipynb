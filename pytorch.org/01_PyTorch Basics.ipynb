{
 "cells": [
  {
   "cell_type": "code",
   "execution_count": 1,
   "id": "f7957fdc",
   "metadata": {
    "ExecuteTime": {
     "end_time": "2021-10-12T21:36:48.105848Z",
     "start_time": "2021-10-12T21:36:47.534139Z"
    }
   },
   "outputs": [
    {
     "data": {
      "text/plain": [
       "<torch._C.Generator at 0x1aa05898230>"
      ]
     },
     "execution_count": 1,
     "metadata": {},
     "output_type": "execute_result"
    }
   ],
   "source": [
    "import torch\n",
    "import numpy as np\n",
    "\n",
    "torch.manual_seed(1234)"
   ]
  },
  {
   "cell_type": "markdown",
   "id": "80d8d1f2",
   "metadata": {},
   "source": [
    "## 텐서\n",
    "\n",
    "* 스칼라는 하나의 숫자입니다.\n",
    "* 벡터는 숫자의 배열입니다.\n",
    "* 행렬은 숫자의 2-D 배열입니다.\n",
    "* 텐서는 숫자의 N-D 배열입니다."
   ]
  },
  {
   "cell_type": "markdown",
   "id": "8f3a43e6",
   "metadata": {},
   "source": [
    "### 1. 헬퍼 함수 정의"
   ]
  },
  {
   "cell_type": "code",
   "execution_count": 2,
   "id": "1da95abc",
   "metadata": {
    "ExecuteTime": {
     "end_time": "2021-10-12T21:36:48.109849Z",
     "start_time": "2021-10-12T21:36:48.106849Z"
    }
   },
   "outputs": [],
   "source": [
    "def describe(x):\n",
    "    print(\"타입: {}\".format(x.type()))\n",
    "    print(\"크기: {}\".format(x.shape))\n",
    "    print(\"값: \\n{}\".format(x))"
   ]
  },
  {
   "cell_type": "markdown",
   "id": "7adfdea9",
   "metadata": {},
   "source": [
    "### 2. torch.Tensor로 텐서 만들기"
   ]
  },
  {
   "cell_type": "code",
   "execution_count": 3,
   "id": "a12b7734",
   "metadata": {
    "ExecuteTime": {
     "end_time": "2021-10-12T21:36:48.119849Z",
     "start_time": "2021-10-12T21:36:48.110849Z"
    }
   },
   "outputs": [
    {
     "name": "stdout",
     "output_type": "stream",
     "text": [
      "타입: torch.FloatTensor\n",
      "크기: torch.Size([2, 3])\n",
      "값: \n",
      "tensor([[0., 0., 0.],\n",
      "        [0., 0., 0.]])\n"
     ]
    }
   ],
   "source": [
    "describe(torch.Tensor(2, 3))"
   ]
  },
  {
   "cell_type": "markdown",
   "id": "6c408d83",
   "metadata": {},
   "source": [
    "### 3. 랜덤하게 초기화한 텐서 만들기"
   ]
  },
  {
   "cell_type": "code",
   "execution_count": 4,
   "id": "b52dfbaa",
   "metadata": {
    "ExecuteTime": {
     "end_time": "2021-10-12T21:36:48.127848Z",
     "start_time": "2021-10-12T21:36:48.120849Z"
    }
   },
   "outputs": [
    {
     "name": "stdout",
     "output_type": "stream",
     "text": [
      "타입: torch.FloatTensor\n",
      "크기: torch.Size([2, 3])\n",
      "값: \n",
      "tensor([[0.0290, 0.4019, 0.2598],\n",
      "        [0.3666, 0.0583, 0.7006]])\n"
     ]
    }
   ],
   "source": [
    "# 균등 분포\n",
    "x = torch.rand(2, 3)\n",
    "describe(x)"
   ]
  },
  {
   "cell_type": "code",
   "execution_count": 5,
   "id": "b936de75",
   "metadata": {
    "ExecuteTime": {
     "end_time": "2021-10-12T21:36:48.133848Z",
     "start_time": "2021-10-12T21:36:48.128849Z"
    }
   },
   "outputs": [
    {
     "name": "stdout",
     "output_type": "stream",
     "text": [
      "타입: torch.FloatTensor\n",
      "크기: torch.Size([2, 3])\n",
      "값: \n",
      "tensor([[-0.8545,  0.5098, -0.0821],\n",
      "        [ 0.6607,  0.0785,  0.7884]])\n"
     ]
    }
   ],
   "source": [
    "# 표준 정규 분포\n",
    "describe(torch.randn(2, 3))"
   ]
  },
  {
   "cell_type": "markdown",
   "id": "20cd5f63",
   "metadata": {},
   "source": [
    "### 4. `filled()` 매서드 사용하기"
   ]
  },
  {
   "cell_type": "markdown",
   "id": "11a3d311",
   "metadata": {},
   "source": [
    "텐서를 초기화한 후 값을 바꿀 수 있습니다.\n",
    "\n",
    "밑줄 문자(`_`)로 끝나는 연산은 인-플레이스 연산입니다."
   ]
  },
  {
   "cell_type": "code",
   "execution_count": 6,
   "id": "38b8a636",
   "metadata": {
    "ExecuteTime": {
     "end_time": "2021-10-12T21:36:48.139850Z",
     "start_time": "2021-10-12T21:36:48.134849Z"
    }
   },
   "outputs": [
    {
     "name": "stdout",
     "output_type": "stream",
     "text": [
      "타입: torch.FloatTensor\n",
      "크기: torch.Size([2, 3])\n",
      "값: \n",
      "tensor([[0., 0., 0.],\n",
      "        [0., 0., 0.]])\n",
      "타입: torch.FloatTensor\n",
      "크기: torch.Size([2, 3])\n",
      "값: \n",
      "tensor([[1., 1., 1.],\n",
      "        [1., 1., 1.]])\n",
      "타입: torch.FloatTensor\n",
      "크기: torch.Size([2, 3])\n",
      "값: \n",
      "tensor([[5., 5., 5.],\n",
      "        [5., 5., 5.]])\n"
     ]
    }
   ],
   "source": [
    "describe(torch.zeros(2, 3))\n",
    "x = torch.ones(2, 3)\n",
    "describe(x)\n",
    "x.fill_(5)\n",
    "describe(x)"
   ]
  },
  {
   "cell_type": "code",
   "execution_count": 7,
   "id": "eb05b912",
   "metadata": {
    "ExecuteTime": {
     "end_time": "2021-10-12T21:36:48.149848Z",
     "start_time": "2021-10-12T21:36:48.140849Z"
    }
   },
   "outputs": [
    {
     "name": "stdout",
     "output_type": "stream",
     "text": [
      "torch.FloatTensor\n",
      "torch.Size([3, 4])\n",
      "tensor([[5., 5., 5., 5.],\n",
      "        [5., 5., 5., 5.],\n",
      "        [5., 5., 5., 5.]])\n"
     ]
    }
   ],
   "source": [
    "x = torch.Tensor(3, 4).fill_(5)\n",
    "print(x.type())\n",
    "print(x.shape)\n",
    "print(x)"
   ]
  },
  {
   "cell_type": "markdown",
   "id": "15f4c7c1",
   "metadata": {},
   "source": [
    "### 5. 리스트로 텐서 만들고 초기화"
   ]
  },
  {
   "cell_type": "code",
   "execution_count": 8,
   "id": "504a355d",
   "metadata": {
    "ExecuteTime": {
     "end_time": "2021-10-12T21:36:48.155849Z",
     "start_time": "2021-10-12T21:36:48.150849Z"
    }
   },
   "outputs": [
    {
     "name": "stdout",
     "output_type": "stream",
     "text": [
      "타입: torch.FloatTensor\n",
      "크기: torch.Size([2, 2])\n",
      "값: \n",
      "tensor([[1., 2.],\n",
      "        [2., 4.]])\n"
     ]
    }
   ],
   "source": [
    "x = torch.Tensor([[\n",
    "    1,\n",
    "    2,\n",
    "], [\n",
    "    2,\n",
    "    4,\n",
    "]])\n",
    "describe(x)"
   ]
  },
  {
   "cell_type": "markdown",
   "id": "4e01113e",
   "metadata": {},
   "source": [
    "### 6. numpy로 텐서 만들고 초기화"
   ]
  },
  {
   "cell_type": "code",
   "execution_count": 9,
   "id": "5f9b96a7",
   "metadata": {
    "ExecuteTime": {
     "end_time": "2021-10-12T21:36:48.161849Z",
     "start_time": "2021-10-12T21:36:48.156849Z"
    }
   },
   "outputs": [
    {
     "name": "stdout",
     "output_type": "stream",
     "text": [
      "타입: torch.DoubleTensor\n",
      "크기: torch.Size([2, 3])\n",
      "값: \n",
      "tensor([[0.9999, 0.5376, 0.3792],\n",
      "        [0.8970, 0.9249, 0.6723]], dtype=torch.float64)\n",
      "float64\n"
     ]
    }
   ],
   "source": [
    "npy = np.random.rand(2, 3)\n",
    "describe(torch.from_numpy(npy))\n",
    "print(npy.dtype)"
   ]
  }
 ],
 "metadata": {
  "kernelspec": {
   "display_name": "Python 3",
   "language": "python",
   "name": "python3"
  },
  "language_info": {
   "codemirror_mode": {
    "name": "ipython",
    "version": 3
   },
   "file_extension": ".py",
   "mimetype": "text/x-python",
   "name": "python",
   "nbconvert_exporter": "python",
   "pygments_lexer": "ipython3",
   "version": "3.8.10"
  }
 },
 "nbformat": 4,
 "nbformat_minor": 5
}
