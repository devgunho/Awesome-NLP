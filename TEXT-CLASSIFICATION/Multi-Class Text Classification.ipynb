{
 "cells": [
  {
   "cell_type": "markdown",
   "id": "bee8dbd4",
   "metadata": {},
   "source": [
    "## Multi-Class Text Classification with Doc2Vec & Logistic Regression\n",
    "\n",
    "The goal is to classify consumer finance complaints into 12 pre-defined classes using Doc2Vec and Logistic Regression.\n",
    "\n",
    "Doc2vec is an NLP tool for representing documents as a vector and is a generalizing of the word2vec method."
   ]
  },
  {
   "cell_type": "markdown",
   "id": "a1db7006",
   "metadata": {},
   "source": [
    "### Consumer Complaint Database\n",
    "> https://catalog.data.gov/dataset/consumer-complaint-database\n",
    "\n",
    "*Metadata Updated: November 10, 2020*\n",
    "\n",
    "The Consumer Complaint Database is a collection of complaints about consumer financial products and services that we sent to companies for response.\n",
    "\n",
    "Complaints are published after the company responds, confirming a commercial relationship with the consumer, or after 15 days, whichever comes first.\n",
    "\n",
    "Complaints referred to other regulators, such as complaints about depository institutions with less than $10 billion in assets, are not published in the Consumer Complaint Database. The database generally updates daily."
   ]
  },
  {
   "cell_type": "code",
   "execution_count": 1,
   "id": "458e99c3",
   "metadata": {
    "ExecuteTime": {
     "end_time": "2021-06-01T05:00:20.229353Z",
     "start_time": "2021-06-01T05:00:08.734369Z"
    }
   },
   "outputs": [
    {
     "name": "stderr",
     "output_type": "stream",
     "text": [
      "C:\\ProgramData\\Anaconda3\\lib\\site-packages\\numpy\\_distributor_init.py:30: UserWarning: loaded more than 1 DLL from .libs:\n",
      "C:\\ProgramData\\Anaconda3\\lib\\site-packages\\numpy\\.libs\\libopenblas.GK7GX5KEQ4F6UYO3P26ULGBQYHGQO7J4.gfortran-win_amd64.dll\n",
      "C:\\ProgramData\\Anaconda3\\lib\\site-packages\\numpy\\.libs\\libopenblas.WCDJNK7YVMPZQ2ME2ZZHJJRJ3JIKNDB7.gfortran-win_amd64.dll\n",
      "  warnings.warn(\"loaded more than 1 DLL from .libs:\"\n"
     ]
    },
    {
     "data": {
      "text/html": [
       "<div>\n",
       "<style scoped>\n",
       "    .dataframe tbody tr th:only-of-type {\n",
       "        vertical-align: middle;\n",
       "    }\n",
       "\n",
       "    .dataframe tbody tr th {\n",
       "        vertical-align: top;\n",
       "    }\n",
       "\n",
       "    .dataframe thead th {\n",
       "        text-align: right;\n",
       "    }\n",
       "</style>\n",
       "<table border=\"1\" class=\"dataframe\">\n",
       "  <thead>\n",
       "    <tr style=\"text-align: right;\">\n",
       "      <th></th>\n",
       "      <th>narrative</th>\n",
       "      <th>Product</th>\n",
       "    </tr>\n",
       "  </thead>\n",
       "  <tbody>\n",
       "    <tr>\n",
       "      <th>0</th>\n",
       "      <td>transworld systems inc. \\nis trying to collect...</td>\n",
       "      <td>Debt collection</td>\n",
       "    </tr>\n",
       "    <tr>\n",
       "      <th>2</th>\n",
       "      <td>Over the past 2 weeks, I have been receiving e...</td>\n",
       "      <td>Debt collection</td>\n",
       "    </tr>\n",
       "    <tr>\n",
       "      <th>4</th>\n",
       "      <td>My personal information was used without my kn...</td>\n",
       "      <td>Credit reporting, credit repair services, or o...</td>\n",
       "    </tr>\n",
       "    <tr>\n",
       "      <th>5</th>\n",
       "      <td>XX/XX/2021 I lost my phone and I didn't notice...</td>\n",
       "      <td>Money transfer, virtual currency, or money ser...</td>\n",
       "    </tr>\n",
       "    <tr>\n",
       "      <th>10</th>\n",
       "      <td>Previously, on XX/XX/XXXX, XX/XX/XXXX, and XX/...</td>\n",
       "      <td>Credit reporting, credit repair services, or o...</td>\n",
       "    </tr>\n",
       "    <tr>\n",
       "      <th>11</th>\n",
       "      <td>Hello This complaint is against the three cred...</td>\n",
       "      <td>Credit reporting, credit repair services, or o...</td>\n",
       "    </tr>\n",
       "    <tr>\n",
       "      <th>15</th>\n",
       "      <td>Today XX/XX/XXXX went online to dispute the in...</td>\n",
       "      <td>Credit reporting, credit repair services, or o...</td>\n",
       "    </tr>\n",
       "    <tr>\n",
       "      <th>17</th>\n",
       "      <td>XXXX is reporting incorrectly to Equifax and X...</td>\n",
       "      <td>Credit reporting, credit repair services, or o...</td>\n",
       "    </tr>\n",
       "    <tr>\n",
       "      <th>18</th>\n",
       "      <td>Please reverse the late payments reported on t...</td>\n",
       "      <td>Credit reporting, credit repair services, or o...</td>\n",
       "    </tr>\n",
       "    <tr>\n",
       "      <th>19</th>\n",
       "      <td>Pioneer has committed several federal violatio...</td>\n",
       "      <td>Debt collection</td>\n",
       "    </tr>\n",
       "  </tbody>\n",
       "</table>\n",
       "</div>"
      ],
      "text/plain": [
       "                                            narrative  \\\n",
       "0   transworld systems inc. \\nis trying to collect...   \n",
       "2   Over the past 2 weeks, I have been receiving e...   \n",
       "4   My personal information was used without my kn...   \n",
       "5   XX/XX/2021 I lost my phone and I didn't notice...   \n",
       "10  Previously, on XX/XX/XXXX, XX/XX/XXXX, and XX/...   \n",
       "11  Hello This complaint is against the three cred...   \n",
       "15  Today XX/XX/XXXX went online to dispute the in...   \n",
       "17  XXXX is reporting incorrectly to Equifax and X...   \n",
       "18  Please reverse the late payments reported on t...   \n",
       "19  Pioneer has committed several federal violatio...   \n",
       "\n",
       "                                              Product  \n",
       "0                                     Debt collection  \n",
       "2                                     Debt collection  \n",
       "4   Credit reporting, credit repair services, or o...  \n",
       "5   Money transfer, virtual currency, or money ser...  \n",
       "10  Credit reporting, credit repair services, or o...  \n",
       "11  Credit reporting, credit repair services, or o...  \n",
       "15  Credit reporting, credit repair services, or o...  \n",
       "17  Credit reporting, credit repair services, or o...  \n",
       "18  Credit reporting, credit repair services, or o...  \n",
       "19                                    Debt collection  "
      ]
     },
     "execution_count": 1,
     "metadata": {},
     "output_type": "execute_result"
    }
   ],
   "source": [
    "import pandas as pd\n",
    "import numpy as np\n",
    "from tqdm import tqdm\n",
    "\n",
    "tqdm.pandas(desc=\"progress-bar\")\n",
    "from gensim.models import Doc2Vec\n",
    "from sklearn import utils\n",
    "from sklearn.model_selection import train_test_split\n",
    "import gensim\n",
    "from sklearn.linear_model import LogisticRegression\n",
    "from gensim.models.doc2vec import TaggedDocument\n",
    "import re\n",
    "import seaborn as sns\n",
    "import matplotlib.pyplot as plt\n",
    "\n",
    "df = pd.read_csv('./complaints.csv')\n",
    "df = df[['Consumer complaint narrative', 'Product']]\n",
    "df = df[pd.notnull(df['Consumer complaint narrative'])]\n",
    "df.rename(columns={'Consumer complaint narrative': 'narrative'}, inplace=True)\n",
    "df.head(10)"
   ]
  }
 ],
 "metadata": {
  "kernelspec": {
   "display_name": "Python 3",
   "language": "python",
   "name": "python3"
  },
  "language_info": {
   "codemirror_mode": {
    "name": "ipython",
    "version": 3
   },
   "file_extension": ".py",
   "mimetype": "text/x-python",
   "name": "python",
   "nbconvert_exporter": "python",
   "pygments_lexer": "ipython3",
   "version": "3.8.10"
  }
 },
 "nbformat": 4,
 "nbformat_minor": 5
}
