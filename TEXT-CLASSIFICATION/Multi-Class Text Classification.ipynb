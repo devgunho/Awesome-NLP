{
 "cells": [
  {
   "cell_type": "markdown",
   "id": "bee8dbd4",
   "metadata": {},
   "source": [
    "## Multi-Class Text Classification with Doc2Vec & Logistic Regression\n",
    "\n",
    "The goal is to classify consumer finance complaints into 12 pre-defined classes using Doc2Vec and Logistic Regression.\n",
    "\n",
    "Doc2vec is an NLP tool for representing documents as a vector and is a generalizing of the word2vec method."
   ]
  },
  {
   "cell_type": "markdown",
   "id": "a1db7006",
   "metadata": {},
   "source": [
    "### Consumer Complaint Database\n",
    "> https://catalog.data.gov/dataset/consumer-complaint-database\n",
    "\n",
    "*Metadata Updated: November 10, 2020*\n",
    "\n",
    "The Consumer Complaint Database is a collection of complaints about consumer financial products and services that we sent to companies for response.\n",
    "\n",
    "Complaints are published after the company responds, confirming a commercial relationship with the consumer, or after 15 days, whichever comes first.\n",
    "\n",
    "Complaints referred to other regulators, such as complaints about depository institutions with less than $10 billion in assets, are not published in the Consumer Complaint Database. The database generally updates daily."
   ]
  },
  {
   "cell_type": "code",
   "execution_count": 1,
   "id": "458e99c3",
   "metadata": {
    "ExecuteTime": {
     "end_time": "2021-06-01T10:09:38.886114Z",
     "start_time": "2021-06-01T10:09:27.194664Z"
    }
   },
   "outputs": [
    {
     "name": "stderr",
     "output_type": "stream",
     "text": [
      "C:\\ProgramData\\Anaconda3\\lib\\site-packages\\numpy\\_distributor_init.py:30: UserWarning: loaded more than 1 DLL from .libs:\n",
      "C:\\ProgramData\\Anaconda3\\lib\\site-packages\\numpy\\.libs\\libopenblas.GK7GX5KEQ4F6UYO3P26ULGBQYHGQO7J4.gfortran-win_amd64.dll\n",
      "C:\\ProgramData\\Anaconda3\\lib\\site-packages\\numpy\\.libs\\libopenblas.WCDJNK7YVMPZQ2ME2ZZHJJRJ3JIKNDB7.gfortran-win_amd64.dll\n",
      "  warnings.warn(\"loaded more than 1 DLL from .libs:\"\n"
     ]
    },
    {
     "data": {
      "text/html": [
       "<div>\n",
       "<style scoped>\n",
       "    .dataframe tbody tr th:only-of-type {\n",
       "        vertical-align: middle;\n",
       "    }\n",
       "\n",
       "    .dataframe tbody tr th {\n",
       "        vertical-align: top;\n",
       "    }\n",
       "\n",
       "    .dataframe thead th {\n",
       "        text-align: right;\n",
       "    }\n",
       "</style>\n",
       "<table border=\"1\" class=\"dataframe\">\n",
       "  <thead>\n",
       "    <tr style=\"text-align: right;\">\n",
       "      <th></th>\n",
       "      <th>narrative</th>\n",
       "      <th>Product</th>\n",
       "    </tr>\n",
       "  </thead>\n",
       "  <tbody>\n",
       "    <tr>\n",
       "      <th>0</th>\n",
       "      <td>transworld systems inc. \\nis trying to collect...</td>\n",
       "      <td>Debt collection</td>\n",
       "    </tr>\n",
       "    <tr>\n",
       "      <th>2</th>\n",
       "      <td>Over the past 2 weeks, I have been receiving e...</td>\n",
       "      <td>Debt collection</td>\n",
       "    </tr>\n",
       "    <tr>\n",
       "      <th>4</th>\n",
       "      <td>My personal information was used without my kn...</td>\n",
       "      <td>Credit reporting, credit repair services, or o...</td>\n",
       "    </tr>\n",
       "    <tr>\n",
       "      <th>5</th>\n",
       "      <td>XX/XX/2021 I lost my phone and I didn't notice...</td>\n",
       "      <td>Money transfer, virtual currency, or money ser...</td>\n",
       "    </tr>\n",
       "    <tr>\n",
       "      <th>10</th>\n",
       "      <td>Previously, on XX/XX/XXXX, XX/XX/XXXX, and XX/...</td>\n",
       "      <td>Credit reporting, credit repair services, or o...</td>\n",
       "    </tr>\n",
       "    <tr>\n",
       "      <th>11</th>\n",
       "      <td>Hello This complaint is against the three cred...</td>\n",
       "      <td>Credit reporting, credit repair services, or o...</td>\n",
       "    </tr>\n",
       "    <tr>\n",
       "      <th>15</th>\n",
       "      <td>Today XX/XX/XXXX went online to dispute the in...</td>\n",
       "      <td>Credit reporting, credit repair services, or o...</td>\n",
       "    </tr>\n",
       "    <tr>\n",
       "      <th>17</th>\n",
       "      <td>XXXX is reporting incorrectly to Equifax and X...</td>\n",
       "      <td>Credit reporting, credit repair services, or o...</td>\n",
       "    </tr>\n",
       "    <tr>\n",
       "      <th>18</th>\n",
       "      <td>Please reverse the late payments reported on t...</td>\n",
       "      <td>Credit reporting, credit repair services, or o...</td>\n",
       "    </tr>\n",
       "    <tr>\n",
       "      <th>19</th>\n",
       "      <td>Pioneer has committed several federal violatio...</td>\n",
       "      <td>Debt collection</td>\n",
       "    </tr>\n",
       "  </tbody>\n",
       "</table>\n",
       "</div>"
      ],
      "text/plain": [
       "                                            narrative  \\\n",
       "0   transworld systems inc. \\nis trying to collect...   \n",
       "2   Over the past 2 weeks, I have been receiving e...   \n",
       "4   My personal information was used without my kn...   \n",
       "5   XX/XX/2021 I lost my phone and I didn't notice...   \n",
       "10  Previously, on XX/XX/XXXX, XX/XX/XXXX, and XX/...   \n",
       "11  Hello This complaint is against the three cred...   \n",
       "15  Today XX/XX/XXXX went online to dispute the in...   \n",
       "17  XXXX is reporting incorrectly to Equifax and X...   \n",
       "18  Please reverse the late payments reported on t...   \n",
       "19  Pioneer has committed several federal violatio...   \n",
       "\n",
       "                                              Product  \n",
       "0                                     Debt collection  \n",
       "2                                     Debt collection  \n",
       "4   Credit reporting, credit repair services, or o...  \n",
       "5   Money transfer, virtual currency, or money ser...  \n",
       "10  Credit reporting, credit repair services, or o...  \n",
       "11  Credit reporting, credit repair services, or o...  \n",
       "15  Credit reporting, credit repair services, or o...  \n",
       "17  Credit reporting, credit repair services, or o...  \n",
       "18  Credit reporting, credit repair services, or o...  \n",
       "19                                    Debt collection  "
      ]
     },
     "execution_count": 1,
     "metadata": {},
     "output_type": "execute_result"
    }
   ],
   "source": [
    "import pandas as pd\n",
    "import numpy as np\n",
    "from tqdm import tqdm\n",
    "\n",
    "tqdm.pandas(desc=\"progress-bar\")\n",
    "from gensim.models import Doc2Vec\n",
    "from sklearn import utils\n",
    "from sklearn.model_selection import train_test_split\n",
    "import gensim\n",
    "from sklearn.linear_model import LogisticRegression\n",
    "from gensim.models.doc2vec import TaggedDocument\n",
    "import re\n",
    "import seaborn as sns\n",
    "import matplotlib.pyplot as plt\n",
    "\n",
    "df = pd.read_csv('./complaints.csv')\n",
    "df = df[['Consumer complaint narrative', 'Product']]\n",
    "df = df[pd.notnull(df['Consumer complaint narrative'])]\n",
    "df.rename(columns={'Consumer complaint narrative': 'narrative'}, inplace=True)\n",
    "df.head(10)"
   ]
  },
  {
   "cell_type": "code",
   "execution_count": 2,
   "id": "255d4a91",
   "metadata": {
    "ExecuteTime": {
     "end_time": "2021-06-01T10:09:38.901048Z",
     "start_time": "2021-06-01T10:09:38.887118Z"
    }
   },
   "outputs": [
    {
     "data": {
      "text/plain": [
       "(723832, 2)"
      ]
     },
     "execution_count": 2,
     "metadata": {},
     "output_type": "execute_result"
    }
   ],
   "source": [
    "df.shape"
   ]
  },
  {
   "cell_type": "code",
   "execution_count": 3,
   "id": "0c791eb4",
   "metadata": {
    "ExecuteTime": {
     "end_time": "2021-06-01T10:09:43.896543Z",
     "start_time": "2021-06-01T10:09:38.902046Z"
    }
   },
   "outputs": [
    {
     "data": {
      "text/plain": [
       "140029991"
      ]
     },
     "execution_count": 3,
     "metadata": {},
     "output_type": "execute_result"
    }
   ],
   "source": [
    "df.index = range(723832)\n",
    "df['narrative'].apply(lambda x: len(x.split(' '))).sum()"
   ]
  },
  {
   "cell_type": "code",
   "execution_count": 4,
   "id": "7116ea1e",
   "metadata": {
    "ExecuteTime": {
     "end_time": "2021-06-01T10:09:44.177344Z",
     "start_time": "2021-06-01T10:09:43.897582Z"
    }
   },
   "outputs": [
    {
     "name": "stderr",
     "output_type": "stream",
     "text": [
      "C:\\ProgramData\\Anaconda3\\lib\\site-packages\\seaborn\\_decorators.py:36: FutureWarning: Pass the following variables as keyword args: x, y. From version 0.12, the only valid positional argument will be `data`, and passing other arguments without an explicit keyword will result in an error or misinterpretation.\n",
      "  warnings.warn(\n"
     ]
    },
    {
     "data": {
      "image/png": "[encoded data removed]",
      "text/plain": [
       "<Figure size 864x288 with 1 Axes>"
      ]
     },
     "metadata": {
      "needs_background": "light"
     },
     "output_type": "display_data"
    }
   ],
   "source": [
    "cnt_pro = df['Product'].value_counts()\n",
    "plt.figure(figsize=(12, 4))\n",
    "sns.barplot(cnt_pro.index, cnt_pro.values, alpha=0.8)\n",
    "plt.ylabel('Number of Occurrences', fontsize=12)\n",
    "plt.xlabel('Product', fontsize=12)\n",
    "plt.xticks(rotation=90)\n",
    "plt.show()"
   ]
  },
  {
   "cell_type": "code",
   "execution_count": 5,
   "id": "44205944",
   "metadata": {
    "ExecuteTime": {
     "end_time": "2021-06-01T10:09:44.193266Z",
     "start_time": "2021-06-01T10:09:44.178306Z"
    }
   },
   "outputs": [
    {
     "name": "stdout",
     "output_type": "stream",
     "text": [
      "i am a victim of identity theft as previously stated\n",
      "Product: Credit reporting, credit repair services, or other personal consumer reports\n"
     ]
    }
   ],
   "source": [
    "def print_complaint(index):\n",
    "    example = df[df.index == index][['narrative', 'Product']].values[0]\n",
    "    if len(example) > 0:\n",
    "        print(example[0])\n",
    "        print('Product:', example[1])\n",
    "\n",
    "\n",
    "print_complaint(12)"
   ]
  },
  {
   "cell_type": "code",
   "execution_count": 6,
   "id": "f48eb5c6",
   "metadata": {
    "ExecuteTime": {
     "end_time": "2021-06-01T10:09:44.209278Z",
     "start_time": "2021-06-01T10:09:44.194264Z"
    }
   },
   "outputs": [
    {
     "name": "stdout",
     "output_type": "stream",
     "text": [
      "I am a victim of identity theft. The information listed below, which appears on my credit report, does not relate to any transaction ( s )  that I have made. It is the result of identity theft.\n",
      "Product: Credit reporting, credit repair services, or other personal consumer reports\n"
     ]
    }
   ],
   "source": [
    "print_complaint(20)"
   ]
  },
  {
   "cell_type": "code",
   "execution_count": 7,
   "id": "bbb5f0e5",
   "metadata": {
    "ExecuteTime": {
     "end_time": "2021-06-01T10:11:33.276746Z",
     "start_time": "2021-06-01T10:09:44.211274Z"
    }
   },
   "outputs": [],
   "source": [
    "from bs4 import BeautifulSoup\n",
    "def cleanText(text):\n",
    "    text = BeautifulSoup(text, \"lxml\").text\n",
    "    text = re.sub(r'\\|\\|\\|', r' ', text) \n",
    "    text = re.sub(r'http\\S+', r'<URL>', text)\n",
    "    text = text.lower()\n",
    "    text = text.replace('x', '')\n",
    "    return text\n",
    "df['narrative'] = df['narrative'].apply(cleanText)"
   ]
  },
  {
   "cell_type": "code",
   "execution_count": 8,
   "id": "8fd636fd",
   "metadata": {
    "ExecuteTime": {
     "end_time": "2021-06-01T10:25:54.113523Z",
     "start_time": "2021-06-01T10:11:33.278713Z"
    }
   },
   "outputs": [],
   "source": [
    "train, test = train_test_split(df, test_size=0.3, random_state=42)\n",
    "import nltk\n",
    "from nltk.corpus import stopwords\n",
    "\n",
    "\n",
    "def tokenize_text(text):\n",
    "    tokens = []\n",
    "    for sent in nltk.sent_tokenize(text):\n",
    "        for word in nltk.word_tokenize(sent):\n",
    "            if len(word) < 2:\n",
    "                continue\n",
    "            tokens.append(word.lower())\n",
    "    return tokens\n",
    "\n",
    "\n",
    "train_tagged = train.apply(lambda r: TaggedDocument(\n",
    "    words=tokenize_text(r['narrative']), tags=[r.Product]),\n",
    "                           axis=1)\n",
    "test_tagged = test.apply(lambda r: TaggedDocument(\n",
    "    words=tokenize_text(r['narrative']), tags=[r.Product]),\n",
    "                         axis=1)"
   ]
  },
  {
   "cell_type": "code",
   "execution_count": 9,
   "id": "db88017c",
   "metadata": {
    "ExecuteTime": {
     "end_time": "2021-06-01T10:25:54.129477Z",
     "start_time": "2021-06-01T10:25:54.114517Z"
    }
   },
   "outputs": [
    {
     "data": {
      "text/plain": [
       "TaggedDocument(words=['on', '2015', 'contacted', 'pnc', 'bank', 'because', 'saw', 'charge', 'from', 'in', 'the', 'amount', 'of', 'contacted', 'my', 'bank', 'to', 'let', 'them', 'know', 'that', 'this', 'transaction', 'was', 'not', 'authorized', 'by', 'me', 'pnc', 'bank', 'removed', 'that', 'transaction', 'asked', 'the', 'representative', 'how', 'was', 'allowed', 'to', 'post', 'transaction', 'on', 'an', 'epired', 'debit', 'card', 'had', 'used', 'this', 'debit', 'card', 'couple', 'years', 'back', 'to', 'purchase', 'the', 'online', 'version', 'of', 'the', 'software', 'it', 'looks', 'like', 'the', 'automatically', 'sign', 'you', 'up', 'for', 'automatic', 'renewal.my', 'debit', 'card', 'ending', 'in', 'epired', 'on', 'in', 'of', '2015', 'received', 'new', 'debit', 'card', 'ending', 'in', 'with', 'different', 'epiration', 'date', 'has', 'awoke', 'from', 'sleep', 'the', 'morning', 'to', 'find', 'that', 'pnc', 'post', 'the', 'transaction', 'of', 'and', 'incurred', 'fees', 'associated', 'with', 'that', 'transaction', 'with', 'into', 'the', 'site', 'and', 'login', 'to', 'find', 'they', 'had', 'my', 'new', 'epiration', 'date', 'attached', 'document', 'until', 'today', 'had', 'not', 'logged', 'into', \"'s\", 'site', 'since', 'filing', 'my', 'taes', 'in', 'of', '2015.', 'am', 'very', 'curious', 'to', 'know', 'how', 'acquired', 'my', 'new', 'epiration', 'date', 'because', 'they', 'surely', 'did', 'not', 'receive', 'it', 'from', 'me', 'was', 'advised', 'by', 'that', 'if', 'your', 'credit', 'card', 'is', 'epired', 'your', 'bank', 'can', 'authorize', 'charge', 'and', 'also', 'update', 'the', 'new', 'epiration', 'date', 'was', 'told', 'that', 'they', 'can', 'do', 'this', 'without', 'notifying', 'the', 'customer', 'believe', 'that', 'customer', 'should', 'be', 'notify', 'and', 'have', 'the', 'opportunity', 'to', 'say', 'no', 'to', 'this', 'service', 'just', 'lilt', 'opting', 'in', 'or', 'out', 'of', 'overdraft', 'protection'], tags=['Bank account or service'])"
      ]
     },
     "execution_count": 9,
     "metadata": {},
     "output_type": "execute_result"
    }
   ],
   "source": [
    "train_tagged.values[30]"
   ]
  },
  {
   "cell_type": "code",
   "execution_count": 10,
   "id": "898b1fcb",
   "metadata": {
    "ExecuteTime": {
     "end_time": "2021-06-01T10:25:54.145483Z",
     "start_time": "2021-06-01T10:25:54.130474Z"
    }
   },
   "outputs": [],
   "source": [
    "import multiprocessing\n",
    "\n",
    "cores = multiprocessing.cpu_count()"
   ]
  },
  {
   "cell_type": "code",
   "execution_count": 11,
   "id": "17751fd0",
   "metadata": {
    "ExecuteTime": {
     "end_time": "2021-06-01T10:26:07.216819Z",
     "start_time": "2021-06-01T10:25:54.146476Z"
    }
   },
   "outputs": [
    {
     "name": "stderr",
     "output_type": "stream",
     "text": [
      "100%|██████████████████████████████████████████████████████████████████████████████████████████████████| 506682/506682 [00:00<00:00, 4456244.07it/s]\n"
     ]
    }
   ],
   "source": [
    "model_dbow = Doc2Vec(dm=0,\n",
    "                     vector_size=300,\n",
    "                     negative=5,\n",
    "                     hs=0,\n",
    "                     min_count=2,\n",
    "                     sample=0,\n",
    "                     workers=cores)\n",
    "model_dbow.build_vocab([x for x in tqdm(train_tagged.values)])"
   ]
  },
  {
   "cell_type": "code",
   "execution_count": 12,
   "id": "93759939",
   "metadata": {
    "ExecuteTime": {
     "end_time": "2021-06-01T10:39:44.433223Z",
     "start_time": "2021-06-01T10:26:07.217816Z"
    }
   },
   "outputs": [
    {
     "name": "stderr",
     "output_type": "stream",
     "text": [
      "100%|██████████████████████████████████████████████████████████████████████████████████████████████████| 506682/506682 [00:00<00:00, 3819810.55it/s]\n",
      "100%|██████████████████████████████████████████████████████████████████████████████████████████████████| 506682/506682 [00:00<00:00, 4032060.90it/s]\n",
      "100%|██████████████████████████████████████████████████████████████████████████████████████████████████| 506682/506682 [00:00<00:00, 4063516.20it/s]\n",
      "100%|██████████████████████████████████████████████████████████████████████████████████████████████████| 506682/506682 [00:00<00:00, 3967579.36it/s]\n",
      "100%|██████████████████████████████████████████████████████████████████████████████████████████████████| 506682/506682 [00:00<00:00, 4174956.96it/s]\n",
      "100%|██████████████████████████████████████████████████████████████████████████████████████████████████| 506682/506682 [00:00<00:00, 4096255.55it/s]\n",
      "100%|██████████████████████████████████████████████████████████████████████████████████████████████████| 506682/506682 [00:00<00:00, 4129679.19it/s]\n",
      "100%|██████████████████████████████████████████████████████████████████████████████████████████████████| 506682/506682 [00:00<00:00, 4146770.36it/s]\n",
      "100%|██████████████████████████████████████████████████████████████████████████████████████████████████| 506682/506682 [00:00<00:00, 4096287.13it/s]\n",
      "100%|██████████████████████████████████████████████████████████████████████████████████████████████████| 506682/506682 [00:00<00:00, 3908014.60it/s]\n",
      "100%|██████████████████████████████████████████████████████████████████████████████████████████████████| 506682/506682 [00:00<00:00, 4079412.96it/s]\n",
      "100%|██████████████████████████████████████████████████████████████████████████████████████████████████| 506682/506682 [00:00<00:00, 4097037.35it/s]\n",
      "100%|██████████████████████████████████████████████████████████████████████████████████████████████████| 506682/506682 [00:00<00:00, 3320482.20it/s]\n",
      "100%|██████████████████████████████████████████████████████████████████████████████████████████████████| 506682/506682 [00:00<00:00, 3763242.56it/s]\n",
      "100%|██████████████████████████████████████████████████████████████████████████████████████████████████| 506682/506682 [00:00<00:00, 3937630.10it/s]\n",
      "100%|██████████████████████████████████████████████████████████████████████████████████████████████████| 506682/506682 [00:00<00:00, 4000305.58it/s]\n",
      "100%|██████████████████████████████████████████████████████████████████████████████████████████████████| 506682/506682 [00:00<00:00, 3938279.53it/s]\n",
      "100%|██████████████████████████████████████████████████████████████████████████████████████████████████| 506682/506682 [00:00<00:00, 4032053.25it/s]\n",
      "100%|██████████████████████████████████████████████████████████████████████████████████████████████████| 506682/506682 [00:00<00:00, 4085985.65it/s]\n",
      "100%|██████████████████████████████████████████████████████████████████████████████████████████████████| 506682/506682 [00:00<00:00, 4063640.52it/s]\n",
      "100%|██████████████████████████████████████████████████████████████████████████████████████████████████| 506682/506682 [00:00<00:00, 4097076.84it/s]\n",
      "100%|██████████████████████████████████████████████████████████████████████████████████████████████████| 506682/506682 [00:00<00:00, 3938235.74it/s]\n",
      "100%|██████████████████████████████████████████████████████████████████████████████████████████████████| 506682/506682 [00:00<00:00, 4146980.74it/s]\n",
      "100%|██████████████████████████████████████████████████████████████████████████████████████████████████| 506682/506682 [00:00<00:00, 4164117.80it/s]\n",
      "100%|██████████████████████████████████████████████████████████████████████████████████████████████████| 506682/506682 [00:00<00:00, 4198637.86it/s]\n",
      "100%|██████████████████████████████████████████████████████████████████████████████████████████████████| 506682/506682 [00:00<00:00, 4097084.74it/s]\n",
      "100%|██████████████████████████████████████████████████████████████████████████████████████████████████| 506682/506682 [00:00<00:00, 4163350.97it/s]\n",
      "100%|██████████████████████████████████████████████████████████████████████████████████████████████████| 506682/506682 [00:00<00:00, 4198679.33it/s]\n",
      "100%|██████████████████████████████████████████████████████████████████████████████████████████████████| 506682/506682 [00:00<00:00, 4147102.13it/s]\n",
      "100%|██████████████████████████████████████████████████████████████████████████████████████████████████| 506682/506682 [00:00<00:00, 4064293.33it/s]\n"
     ]
    },
    {
     "name": "stdout",
     "output_type": "stream",
     "text": [
      "Wall time: 13min 37s\n"
     ]
    }
   ],
   "source": [
    "%%time\n",
    "for epoch in range(30):\n",
    "    model_dbow.train(utils.shuffle([x for x in tqdm(train_tagged.values)]),\n",
    "                     total_examples=len(train_tagged.values),\n",
    "                     epochs=1)\n",
    "    model_dbow.alpha -= 0.002\n",
    "    model_dbow.min_alpha = model_dbow.alpha"
   ]
  },
  {
   "cell_type": "code",
   "execution_count": 13,
   "id": "ad2be8bc",
   "metadata": {
    "ExecuteTime": {
     "end_time": "2021-06-01T10:39:44.449201Z",
     "start_time": "2021-06-01T10:39:44.434220Z"
    }
   },
   "outputs": [],
   "source": [
    "def vec_for_learning(model, tagged_docs):\n",
    "    sents = tagged_docs.values\n",
    "    targets, regressors = zip(*[(doc.tags[0],\n",
    "                                 model.infer_vector(doc.words, steps=20))\n",
    "                                for doc in sents])\n",
    "    return targets, regressors\n",
    "\n",
    "\n",
    "def vec_for_learning(model, tagged_docs):\n",
    "    sents = tagged_docs.values\n",
    "    targets, regressors = zip(*[(doc.tags[0],\n",
    "                                 model.infer_vector(doc.words, steps=20))\n",
    "                                for doc in sents])\n",
    "    return targets, regressors"
   ]
  },
  {
   "cell_type": "code",
   "execution_count": 14,
   "id": "4ed7bca9",
   "metadata": {
    "ExecuteTime": {
     "end_time": "2021-06-01T10:43:49.697569Z",
     "start_time": "2021-06-01T10:39:44.450177Z"
    }
   },
   "outputs": [
    {
     "name": "stderr",
     "output_type": "stream",
     "text": [
      "C:\\ProgramData\\Anaconda3\\lib\\site-packages\\sklearn\\linear_model\\_logistic.py:763: ConvergenceWarning: lbfgs failed to converge (status=1):\n",
      "STOP: TOTAL NO. of ITERATIONS REACHED LIMIT.\n",
      "\n",
      "Increase the number of iterations (max_iter) or scale the data as shown in:\n",
      "    https://scikit-learn.org/stable/modules/preprocessing.html\n",
      "Please also refer to the documentation for alternative solver options:\n",
      "    https://scikit-learn.org/stable/modules/linear_model.html#logistic-regression\n",
      "  n_iter_i = _check_optimize_result(\n"
     ]
    },
    {
     "name": "stdout",
     "output_type": "stream",
     "text": [
      "Testing accuracy 0.373953488372093\n",
      "Testing F1 score: 0.23043132566524982\n"
     ]
    }
   ],
   "source": [
    "y_train, X_train = vec_for_learning(model_dbow, train_tagged)\n",
    "y_test, X_test = vec_for_learning(model_dbow, test_tagged)\n",
    "logreg = LogisticRegression(n_jobs=1, C=1e5)\n",
    "logreg.fit(X_train, y_train)\n",
    "y_pred = logreg.predict(X_test)\n",
    "from sklearn.metrics import accuracy_score, f1_score\n",
    "print('Testing accuracy %s' % accuracy_score(y_test, y_pred))\n",
    "print('Testing F1 score: {}'.format(f1_score(y_test, y_pred, average='weighted')))"
   ]
  },
  {
   "cell_type": "code",
   "execution_count": 15,
   "id": "9fa90d98",
   "metadata": {
    "ExecuteTime": {
     "end_time": "2021-06-01T10:44:03.684284Z",
     "start_time": "2021-06-01T10:43:49.698566Z"
    }
   },
   "outputs": [
    {
     "name": "stderr",
     "output_type": "stream",
     "text": [
      "100%|██████████████████████████████████████████████████████████████████████████████████████████████████| 506682/506682 [00:00<00:00, 4346634.64it/s]\n"
     ]
    }
   ],
   "source": [
    "model_dmm = Doc2Vec(dm=1, dm_mean=1, vector_size=300, window=10, negative=5, min_count=1, workers=5, alpha=0.065, min_alpha=0.065)\n",
    "model_dmm.build_vocab([x for x in tqdm(train_tagged.values)])"
   ]
  },
  {
   "cell_type": "code",
   "execution_count": 16,
   "id": "d43bef96",
   "metadata": {
    "ExecuteTime": {
     "end_time": "2021-06-01T11:07:11.651184Z",
     "start_time": "2021-06-01T10:44:03.685277Z"
    }
   },
   "outputs": [
    {
     "name": "stderr",
     "output_type": "stream",
     "text": [
      "100%|██████████████████████████████████████████████████████████████████████████████████████████████████| 506682/506682 [00:00<00:00, 4513416.65it/s]\n",
      "100%|██████████████████████████████████████████████████████████████████████████████████████████████████| 506682/506682 [00:00<00:00, 4311196.28it/s]\n",
      "100%|██████████████████████████████████████████████████████████████████████████████████████████████████| 506682/506682 [00:00<00:00, 4233667.56it/s]\n",
      "100%|██████████████████████████████████████████████████████████████████████████████████████████████████| 506682/506682 [00:00<00:00, 4198654.45it/s]\n",
      "100%|██████████████████████████████████████████████████████████████████████████████████████████████████| 506682/506682 [00:00<00:00, 4304481.23it/s]\n",
      "100%|██████████████████████████████████████████████████████████████████████████████████████████████████| 506682/506682 [00:00<00:00, 3195204.35it/s]\n",
      "100%|██████████████████████████████████████████████████████████████████████████████████████████████████| 506682/506682 [00:00<00:00, 4320794.27it/s]\n",
      "100%|██████████████████████████████████████████████████████████████████████████████████████████████████| 506682/506682 [00:00<00:00, 4198488.55it/s]\n",
      "100%|██████████████████████████████████████████████████████████████████████████████████████████████████| 506682/506682 [00:00<00:00, 4360664.04it/s]\n",
      "100%|██████████████████████████████████████████████████████████████████████████████████████████████████| 506682/506682 [00:00<00:00, 4304481.23it/s]\n",
      "100%|██████████████████████████████████████████████████████████████████████████████████████████████████| 506682/506682 [00:00<00:00, 4145176.96it/s]\n",
      "100%|██████████████████████████████████████████████████████████████████████████████████████████████████| 506682/506682 [00:00<00:00, 4199500.72it/s]\n",
      "100%|██████████████████████████████████████████████████████████████████████████████████████████████████| 506682/506682 [00:00<00:00, 4251172.90it/s]\n",
      "100%|██████████████████████████████████████████████████████████████████████████████████████████████████| 506682/506682 [00:00<00:00, 4269132.32it/s]\n",
      "100%|██████████████████████████████████████████████████████████████████████████████████████████████████| 506682/506682 [00:00<00:00, 4233777.21it/s]\n",
      "100%|██████████████████████████████████████████████████████████████████████████████████████████████████| 506682/506682 [00:00<00:00, 4164240.19it/s]\n",
      "100%|██████████████████████████████████████████████████████████████████████████████████████████████████| 506682/506682 [00:00<00:00, 4379643.76it/s]\n",
      "100%|██████████████████████████████████████████████████████████████████████████████████████████████████| 506682/506682 [00:00<00:00, 4378588.01it/s]\n",
      "100%|██████████████████████████████████████████████████████████████████████████████████████████████████| 506682/506682 [00:00<00:00, 4305414.32it/s]\n",
      "100%|██████████████████████████████████████████████████████████████████████████████████████████████████| 506682/506682 [00:00<00:00, 4268412.06it/s]\n",
      "100%|██████████████████████████████████████████████████████████████████████████████████████████████████| 506682/506682 [00:00<00:00, 4456580.48it/s]\n",
      "100%|██████████████████████████████████████████████████████████████████████████████████████████████████| 506682/506682 [00:00<00:00, 4303295.82it/s]\n",
      "100%|██████████████████████████████████████████████████████████████████████████████████████████████████| 506682/506682 [00:00<00:00, 4198679.33it/s]\n",
      "100%|██████████████████████████████████████████████████████████████████████████████████████████████████| 506682/506682 [00:00<00:00, 4244787.52it/s]\n",
      "100%|██████████████████████████████████████████████████████████████████████████████████████████████████| 506682/506682 [00:00<00:00, 4435744.17it/s]\n",
      "100%|██████████████████████████████████████████████████████████████████████████████████████████████████| 506682/506682 [00:00<00:00, 4416826.88it/s]\n",
      "100%|██████████████████████████████████████████████████████████████████████████████████████████████████| 506682/506682 [00:00<00:00, 4269200.93it/s]\n",
      "100%|██████████████████████████████████████████████████████████████████████████████████████████████████| 506682/506682 [00:00<00:00, 4269235.24it/s]\n",
      "100%|██████████████████████████████████████████████████████████████████████████████████████████████████| 506682/506682 [00:00<00:00, 4380736.15it/s]\n",
      "100%|██████████████████████████████████████████████████████████████████████████████████████████████████| 506682/506682 [00:00<00:00, 4268403.49it/s]\n"
     ]
    },
    {
     "name": "stdout",
     "output_type": "stream",
     "text": [
      "Wall time: 23min 7s\n"
     ]
    }
   ],
   "source": [
    "%%time\n",
    "for epoch in range(30):\n",
    "    model_dmm.train(utils.shuffle([x for x in tqdm(train_tagged.values)]), total_examples=len(train_tagged.values), epochs=1)\n",
    "    model_dmm.alpha -= 0.002\n",
    "    model_dmm.min_alpha = model_dmm.alpha"
   ]
  },
  {
   "cell_type": "code",
   "execution_count": 17,
   "id": "b43488f5",
   "metadata": {
    "ExecuteTime": {
     "end_time": "2021-06-01T11:12:23.055846Z",
     "start_time": "2021-06-01T11:07:11.652160Z"
    }
   },
   "outputs": [
    {
     "name": "stderr",
     "output_type": "stream",
     "text": [
      "C:\\ProgramData\\Anaconda3\\lib\\site-packages\\sklearn\\linear_model\\_logistic.py:763: ConvergenceWarning: lbfgs failed to converge (status=1):\n",
      "STOP: TOTAL NO. of ITERATIONS REACHED LIMIT.\n",
      "\n",
      "Increase the number of iterations (max_iter) or scale the data as shown in:\n",
      "    https://scikit-learn.org/stable/modules/preprocessing.html\n",
      "Please also refer to the documentation for alternative solver options:\n",
      "    https://scikit-learn.org/stable/modules/linear_model.html#logistic-regression\n",
      "  n_iter_i = _check_optimize_result(\n"
     ]
    },
    {
     "name": "stdout",
     "output_type": "stream",
     "text": [
      "Testing accuracy 0.47426203085424823\n",
      "Testing F1 score: 0.40610082375266326\n"
     ]
    }
   ],
   "source": [
    "y_train, X_train = vec_for_learning(model_dmm, train_tagged)\n",
    "y_test, X_test = vec_for_learning(model_dmm, test_tagged)\n",
    "logreg.fit(X_train, y_train)\n",
    "y_pred = logreg.predict(X_test)\n",
    "print('Testing accuracy %s' % accuracy_score(y_test, y_pred))\n",
    "print('Testing F1 score: {}'.format(f1_score(y_test, y_pred, average='weighted')))"
   ]
  },
  {
   "cell_type": "code",
   "execution_count": 18,
   "id": "8aa3298f",
   "metadata": {
    "ExecuteTime": {
     "end_time": "2021-06-01T11:12:23.508077Z",
     "start_time": "2021-06-01T11:12:23.056817Z"
    }
   },
   "outputs": [
    {
     "ename": "AttributeError",
     "evalue": "'Doc2Vec' object has no attribute 'delete_temporary_training_data'",
     "output_type": "error",
     "traceback": [
      "\u001b[1;31m---------------------------------------------------------------------------\u001b[0m",
      "\u001b[1;31mAttributeError\u001b[0m                            Traceback (most recent call last)",
      "\u001b[1;32m<ipython-input-18-58c903ff55e7>\u001b[0m in \u001b[0;36m<module>\u001b[1;34m\u001b[0m\n\u001b[1;32m----> 1\u001b[1;33m \u001b[0mmodel_dbow\u001b[0m\u001b[1;33m.\u001b[0m\u001b[0mdelete_temporary_training_data\u001b[0m\u001b[1;33m(\u001b[0m\u001b[0mkeep_doctags_vectors\u001b[0m\u001b[1;33m=\u001b[0m\u001b[1;32mTrue\u001b[0m\u001b[1;33m,\u001b[0m \u001b[0mkeep_inference\u001b[0m\u001b[1;33m=\u001b[0m\u001b[1;32mTrue\u001b[0m\u001b[1;33m)\u001b[0m\u001b[1;33m\u001b[0m\u001b[1;33m\u001b[0m\u001b[0m\n\u001b[0m\u001b[0;32m      2\u001b[0m \u001b[0mmodel_dmm\u001b[0m\u001b[1;33m.\u001b[0m\u001b[0mdelete_temporary_training_data\u001b[0m\u001b[1;33m(\u001b[0m\u001b[0mkeep_doctags_vectors\u001b[0m\u001b[1;33m=\u001b[0m\u001b[1;32mTrue\u001b[0m\u001b[1;33m,\u001b[0m \u001b[0mkeep_inference\u001b[0m\u001b[1;33m=\u001b[0m\u001b[1;32mTrue\u001b[0m\u001b[1;33m)\u001b[0m\u001b[1;33m\u001b[0m\u001b[1;33m\u001b[0m\u001b[0m\n",
      "\u001b[1;31mAttributeError\u001b[0m: 'Doc2Vec' object has no attribute 'delete_temporary_training_data'"
     ]
    }
   ],
   "source": [
    "model_dbow.delete_temporary_training_data(keep_doctags_vectors=True, keep_inference=True)\n",
    "model_dmm.delete_temporary_training_data(keep_doctags_vectors=True, keep_inference=True)"
   ]
  },
  {
   "cell_type": "code",
   "execution_count": null,
   "id": "779c5852",
   "metadata": {
    "ExecuteTime": {
     "end_time": "2021-06-01T11:12:23.509050Z",
     "start_time": "2021-06-01T10:09:27.202Z"
    }
   },
   "outputs": [],
   "source": [
    "from gensim.test.test_doc2vec import ConcatenatedDoc2Vec\n",
    "new_model = ConcatenatedDoc2Vec([model_dbow, model_dmm])"
   ]
  },
  {
   "cell_type": "code",
   "execution_count": null,
   "id": "b12e5220",
   "metadata": {
    "ExecuteTime": {
     "end_time": "2021-06-01T11:12:23.510046Z",
     "start_time": "2021-06-01T10:09:27.203Z"
    }
   },
   "outputs": [],
   "source": [
    "def get_vectors(model, tagged_docs):\n",
    "    sents = tagged_docs.values\n",
    "    targets, regressors = zip(*[(doc.tags[0], model.infer_vector(doc.words, steps=20)) for doc in sents])\n",
    "    return targets, regressors"
   ]
  },
  {
   "cell_type": "code",
   "execution_count": null,
   "id": "ba378db2",
   "metadata": {
    "ExecuteTime": {
     "end_time": "2021-06-01T11:12:23.510046Z",
     "start_time": "2021-06-01T10:09:27.204Z"
    }
   },
   "outputs": [],
   "source": [
    "y_train, X_train = get_vectors(new_model, train_tagged)\n",
    "y_test, X_test = get_vectors(new_model, test_tagged)\n",
    "logreg.fit(X_train, y_train)\n",
    "y_pred = logreg.predict(X_test)\n",
    "print('Testing accuracy %s' % accuracy_score(y_test, y_pred))\n",
    "print('Testing F1 score: {}'.format(f1_score(y_test, y_pred, average='weighted')))"
   ]
  }
 ],
 "metadata": {
  "kernelspec": {
   "display_name": "Python 3",
   "language": "python",
   "name": "python3"
  },
  "language_info": {
   "codemirror_mode": {
    "name": "ipython",
    "version": 3
   },
   "file_extension": ".py",
   "mimetype": "text/x-python",
   "name": "python",
   "nbconvert_exporter": "python",
   "pygments_lexer": "ipython3",
   "version": "3.8.10"
  }
 },
 "nbformat": 4,
 "nbformat_minor": 5
}
